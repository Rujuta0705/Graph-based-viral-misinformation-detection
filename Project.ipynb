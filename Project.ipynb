{
  "nbformat": 4,
  "nbformat_minor": 0,
  "metadata": {
    "colab": {
      "provenance": []
    },
    "kernelspec": {
      "name": "python3",
      "display_name": "Python 3"
    },
    "language_info": {
      "name": "python"
    }
  },
  "cells": [
    {
      "cell_type": "code",
      "execution_count": 17,
      "metadata": {
        "id": "rwQCTmPwO9_1"
      },
      "outputs": [],
      "source": [
        "import pandas as pd\n",
        "import networkx as nx\n",
        "import matplotlib.pyplot as plt\n",
        "from sklearn.feature_extraction.text import TfidfVectorizer\n",
        "from sklearn.cluster import SpectralClustering\n",
        "from collections import Counter\n",
        "import numpy as np\n",
        "from community import community_louvain\n",
        "import tweepy\n",
        "from tweepy.pagination import Paginator\n",
        "import time"
      ]
    },
    {
      "cell_type": "code",
      "source": [
        "# ---- Step 1: Twitter API Authentication ----\n",
        "bearer_token = \"AAAAAAAAAAAAAAAAAAAAAAPC0gEAAAAAHlvzk%2BVXKAW%2BOwLcQK%2Fh1zx1T%2Fs%3DFy3RGsS5D2t4QvExP6CS264qHxbkLCwlHCGYC7cbW9RSxUv5Pz\"\n",
        "client = tweepy.Client(bearer_token=bearer_token)\n",
        "\n",
        "# ---- Step 2: Fetch Tweets from Twitter API ----\n",
        "query = \"(trump OR obama OR hillary OR biden OR election OR covid OR vaccine OR coronavirus OR pandemic OR hoax) lang:en -is:retweet\"\n",
        "tweets = client.search_recent_tweets(\n",
        "    query=query,\n",
        "    tweet_fields=[\"author_id\", \"text\"],\n",
        "    max_results=100\n",
        ")\n",
        "data = []\n",
        "if tweets.data:\n",
        "    for tweet in tweets.data:\n",
        "        data.append({\"user\": tweet.author_id, \"text\": tweet.text})\n",
        "df_twitter = pd.DataFrame(data)\n",
        "print(f\"✅ Step 2 completed: Fetched {len(df_twitter)} tweets from Twitter API\")\n"
      ],
      "metadata": {
        "colab": {
          "base_uri": "https://localhost:8080/"
        },
        "id": "3ZlT0S7GPL5F",
        "outputId": "f6dbc232-c10a-449d-cea0-404ce2897481"
      },
      "execution_count": 24,
      "outputs": [
        {
          "output_type": "stream",
          "name": "stdout",
          "text": [
            "✅ Step 2 completed: Fetched 100 tweets from Twitter API\n"
          ]
        }
      ]
    },
    {
      "cell_type": "code",
      "source": [
        "print(\"Sample Twitter Data:\")\n",
        "print(df_twitter[['user', 'text']].head(5).to_string(index=False))"
      ],
      "metadata": {
        "colab": {
          "base_uri": "https://localhost:8080/"
        },
        "id": "gWnGzYFETm3d",
        "outputId": "564b6fee-5a5c-4bb3-d186-292c0d7cbc8c"
      },
      "execution_count": 25,
      "outputs": [
        {
          "output_type": "stream",
          "name": "stdout",
          "text": [
            "Sample Twitter Data:\n",
            "               user                                                                                                                                                                                text\n",
            "1270022309080969219                                                @DefiantLs Jill Biden is cheering for a Crockett/AOC ticket to win.\\nThat's her only hope of seeing Senile Joe lose his #1 position.\n",
            "1594397548839636994                                                                                                                                                         @pulpmx Vaccine got ya down\n",
            "1776771659501850624 @RapidResponse47 @POTUS Oil is down because OPEC increased their production. The U.S. oil companies were at max production before Trump was inaugurated.\\n\\nhttps://t.co/zKdNiGj0tX\n",
            "          128146300                                                                                                                            @IAPolls2022 Since when is Michelle Obama a politician??\n",
            "1267444543722385408                                                                                                 What is worse, Trump trying to be a comedian, or the people that think he is funny?\n"
          ]
        }
      ]
    },
    {
      "cell_type": "code",
      "metadata": {
        "colab": {
          "base_uri": "https://localhost:8080/"
        },
        "id": "x81iqte781S9",
        "outputId": "e9015968-5926-47bc-82ad-c6c510bf5451"
      },
      "source": [
        "# ---- Step 3: Fetch Reddit Posts Using PRAW API ----\n",
        "!pip install praw\n",
        "\n",
        "import praw\n",
        "import pandas as pd\n",
        "\n",
        "reddit = praw.Reddit(\n",
        "    client_id=\"Q_BCM3SNAW2W_DURHCcocQ\",\n",
        "    client_secret=\"GXnLy42lVVfdtLkzsJ7zcpirPyMEsw\",\n",
        "    user_agent=\"misinfo-study-script:v1.0 (by u/Personal_Athlete_396)\"\n",
        ")\n",
        "\n",
        "subreddits = [\"conspiracy\", \"truth\", \"politics\"]  # remove banned ones\n",
        "\n",
        "posts = []\n",
        "\n",
        "for sub in subreddits:\n",
        "    for submission in reddit.subreddit(sub).new(limit=100):\n",
        "        posts.append({\n",
        "            \"user\": str(submission.author),\n",
        "            \"text\": submission.title + \" \" + submission.selftext[:500]\n",
        "        })\n",
        "\n",
        "df_reddit = pd.DataFrame(posts)\n",
        "print(f\"✅ Step 3 completed: Fetched {len(df_reddit)} Reddit posts from {len(subreddits)} subreddits\")\n"
      ],
      "execution_count": 26,
      "outputs": [
        {
          "output_type": "stream",
          "name": "stdout",
          "text": [
            "Requirement already satisfied: praw in /usr/local/lib/python3.11/dist-packages (7.8.1)\n",
            "Requirement already satisfied: prawcore<3,>=2.4 in /usr/local/lib/python3.11/dist-packages (from praw) (2.4.0)\n",
            "Requirement already satisfied: update_checker>=0.18 in /usr/local/lib/python3.11/dist-packages (from praw) (0.18.0)\n",
            "Requirement already satisfied: websocket-client>=0.54.0 in /usr/local/lib/python3.11/dist-packages (from praw) (1.8.0)\n",
            "Requirement already satisfied: requests<3.0,>=2.6.0 in /usr/local/lib/python3.11/dist-packages (from prawcore<3,>=2.4->praw) (2.32.3)\n",
            "Requirement already satisfied: charset-normalizer<4,>=2 in /usr/local/lib/python3.11/dist-packages (from requests<3.0,>=2.6.0->prawcore<3,>=2.4->praw) (3.4.1)\n",
            "Requirement already satisfied: idna<4,>=2.5 in /usr/local/lib/python3.11/dist-packages (from requests<3.0,>=2.6.0->prawcore<3,>=2.4->praw) (3.10)\n",
            "Requirement already satisfied: urllib3<3,>=1.21.1 in /usr/local/lib/python3.11/dist-packages (from requests<3.0,>=2.6.0->prawcore<3,>=2.4->praw) (2.3.0)\n",
            "Requirement already satisfied: certifi>=2017.4.17 in /usr/local/lib/python3.11/dist-packages (from requests<3.0,>=2.6.0->prawcore<3,>=2.4->praw) (2025.1.31)\n"
          ]
        },
        {
          "output_type": "stream",
          "name": "stderr",
          "text": [
            "WARNING:praw:It appears that you are using PRAW in an asynchronous environment.\n",
            "It is strongly recommended to use Async PRAW: https://asyncpraw.readthedocs.io.\n",
            "See https://praw.readthedocs.io/en/latest/getting_started/multiple_instances.html#discord-bots-and-asynchronous-environments for more info.\n",
            "\n",
            "WARNING:praw:It appears that you are using PRAW in an asynchronous environment.\n",
            "It is strongly recommended to use Async PRAW: https://asyncpraw.readthedocs.io.\n",
            "See https://praw.readthedocs.io/en/latest/getting_started/multiple_instances.html#discord-bots-and-asynchronous-environments for more info.\n",
            "\n",
            "WARNING:praw:It appears that you are using PRAW in an asynchronous environment.\n",
            "It is strongly recommended to use Async PRAW: https://asyncpraw.readthedocs.io.\n",
            "See https://praw.readthedocs.io/en/latest/getting_started/multiple_instances.html#discord-bots-and-asynchronous-environments for more info.\n",
            "\n"
          ]
        },
        {
          "output_type": "stream",
          "name": "stdout",
          "text": [
            "✅ Step 3 completed: Fetched 300 Reddit posts from 3 subreddits\n"
          ]
        }
      ]
    },
    {
      "cell_type": "code",
      "source": [
        "# ---- Step 3: Load Kaggle Fake News Dataset ----\n",
        "from google.colab import files\n",
        "uploaded = files.upload()  # User uploads 'archive (2).zip'\n",
        "\n",
        "import zipfile\n",
        "import os\n",
        "\n",
        "# Unzip in runtime\n",
        "zip_path = \"archive.zip\"\n",
        "extract_folder = \"News _dataset\"\n",
        "\n",
        "with zipfile.ZipFile(zip_path, 'r') as zip_ref:\n",
        "    zip_ref.extractall()\n",
        "    print(f\"Extracted Kaggle dataset from {zip_path}\")\n",
        "# ---- Step 3.1: Load Kaggle Fake News Dataset ----\n",
        "kaggle_file_path = os.path.join(extract_folder, \"Fake.csv\")\n",
        "\n",
        "try:\n",
        "    df_kaggle = pd.read_csv(kaggle_file_path).head(500)\n",
        "    df_kaggle = df_kaggle[['text']].rename(columns={'text': 'text'})\n",
        "    df_kaggle['user'] = 'Kaggle_FakeNews'\n",
        "except FileNotFoundError:\n",
        "    df_kaggle = pd.DataFrame(columns=['text', 'user'])\n",
        "    print(f\"Fake.csv not found at {kaggle_file_path}. Skipping Kaggle data.\")\n",
        "\n",
        "# ---- Step 3.2: Load Kaggle True News Dataset ----\n",
        "print(\"✅ Step 3.1 completed: Load Kaggle True News Dataset\")\n",
        "true_file_path = os.path.join(extract_folder, \"True.csv\")\n",
        "\n",
        "try:\n",
        "    df_true = pd.read_csv(true_file_path).head(500)\n",
        "    df_true = df_true[['text']].rename(columns={'text': 'text'})\n",
        "    df_true['user'] = 'Kaggle_TrueNews'\n",
        "except FileNotFoundError:\n",
        "    df_true = pd.DataFrame(columns=['text', 'user'])\n",
        "    print(f\"True.csv not found at {true_file_path}. Skipping True news data.\")"
      ],
      "metadata": {
        "colab": {
          "base_uri": "https://localhost:8080/",
          "height": 109
        },
        "id": "2eiOl0nzPrRJ",
        "outputId": "a7762ac5-2cff-4977-b546-e92cfd2ec097"
      },
      "execution_count": 27,
      "outputs": [
        {
          "output_type": "display_data",
          "data": {
            "text/plain": [
              "<IPython.core.display.HTML object>"
            ],
            "text/html": [
              "\n",
              "     <input type=\"file\" id=\"files-4c3407da-5f16-4942-b357-530fcb1f29e0\" name=\"files[]\" multiple disabled\n",
              "        style=\"border:none\" />\n",
              "     <output id=\"result-4c3407da-5f16-4942-b357-530fcb1f29e0\">\n",
              "      Upload widget is only available when the cell has been executed in the\n",
              "      current browser session. Please rerun this cell to enable.\n",
              "      </output>\n",
              "      <script>// Copyright 2017 Google LLC\n",
              "//\n",
              "// Licensed under the Apache License, Version 2.0 (the \"License\");\n",
              "// you may not use this file except in compliance with the License.\n",
              "// You may obtain a copy of the License at\n",
              "//\n",
              "//      http://www.apache.org/licenses/LICENSE-2.0\n",
              "//\n",
              "// Unless required by applicable law or agreed to in writing, software\n",
              "// distributed under the License is distributed on an \"AS IS\" BASIS,\n",
              "// WITHOUT WARRANTIES OR CONDITIONS OF ANY KIND, either express or implied.\n",
              "// See the License for the specific language governing permissions and\n",
              "// limitations under the License.\n",
              "\n",
              "/**\n",
              " * @fileoverview Helpers for google.colab Python module.\n",
              " */\n",
              "(function(scope) {\n",
              "function span(text, styleAttributes = {}) {\n",
              "  const element = document.createElement('span');\n",
              "  element.textContent = text;\n",
              "  for (const key of Object.keys(styleAttributes)) {\n",
              "    element.style[key] = styleAttributes[key];\n",
              "  }\n",
              "  return element;\n",
              "}\n",
              "\n",
              "// Max number of bytes which will be uploaded at a time.\n",
              "const MAX_PAYLOAD_SIZE = 100 * 1024;\n",
              "\n",
              "function _uploadFiles(inputId, outputId) {\n",
              "  const steps = uploadFilesStep(inputId, outputId);\n",
              "  const outputElement = document.getElementById(outputId);\n",
              "  // Cache steps on the outputElement to make it available for the next call\n",
              "  // to uploadFilesContinue from Python.\n",
              "  outputElement.steps = steps;\n",
              "\n",
              "  return _uploadFilesContinue(outputId);\n",
              "}\n",
              "\n",
              "// This is roughly an async generator (not supported in the browser yet),\n",
              "// where there are multiple asynchronous steps and the Python side is going\n",
              "// to poll for completion of each step.\n",
              "// This uses a Promise to block the python side on completion of each step,\n",
              "// then passes the result of the previous step as the input to the next step.\n",
              "function _uploadFilesContinue(outputId) {\n",
              "  const outputElement = document.getElementById(outputId);\n",
              "  const steps = outputElement.steps;\n",
              "\n",
              "  const next = steps.next(outputElement.lastPromiseValue);\n",
              "  return Promise.resolve(next.value.promise).then((value) => {\n",
              "    // Cache the last promise value to make it available to the next\n",
              "    // step of the generator.\n",
              "    outputElement.lastPromiseValue = value;\n",
              "    return next.value.response;\n",
              "  });\n",
              "}\n",
              "\n",
              "/**\n",
              " * Generator function which is called between each async step of the upload\n",
              " * process.\n",
              " * @param {string} inputId Element ID of the input file picker element.\n",
              " * @param {string} outputId Element ID of the output display.\n",
              " * @return {!Iterable<!Object>} Iterable of next steps.\n",
              " */\n",
              "function* uploadFilesStep(inputId, outputId) {\n",
              "  const inputElement = document.getElementById(inputId);\n",
              "  inputElement.disabled = false;\n",
              "\n",
              "  const outputElement = document.getElementById(outputId);\n",
              "  outputElement.innerHTML = '';\n",
              "\n",
              "  const pickedPromise = new Promise((resolve) => {\n",
              "    inputElement.addEventListener('change', (e) => {\n",
              "      resolve(e.target.files);\n",
              "    });\n",
              "  });\n",
              "\n",
              "  const cancel = document.createElement('button');\n",
              "  inputElement.parentElement.appendChild(cancel);\n",
              "  cancel.textContent = 'Cancel upload';\n",
              "  const cancelPromise = new Promise((resolve) => {\n",
              "    cancel.onclick = () => {\n",
              "      resolve(null);\n",
              "    };\n",
              "  });\n",
              "\n",
              "  // Wait for the user to pick the files.\n",
              "  const files = yield {\n",
              "    promise: Promise.race([pickedPromise, cancelPromise]),\n",
              "    response: {\n",
              "      action: 'starting',\n",
              "    }\n",
              "  };\n",
              "\n",
              "  cancel.remove();\n",
              "\n",
              "  // Disable the input element since further picks are not allowed.\n",
              "  inputElement.disabled = true;\n",
              "\n",
              "  if (!files) {\n",
              "    return {\n",
              "      response: {\n",
              "        action: 'complete',\n",
              "      }\n",
              "    };\n",
              "  }\n",
              "\n",
              "  for (const file of files) {\n",
              "    const li = document.createElement('li');\n",
              "    li.append(span(file.name, {fontWeight: 'bold'}));\n",
              "    li.append(span(\n",
              "        `(${file.type || 'n/a'}) - ${file.size} bytes, ` +\n",
              "        `last modified: ${\n",
              "            file.lastModifiedDate ? file.lastModifiedDate.toLocaleDateString() :\n",
              "                                    'n/a'} - `));\n",
              "    const percent = span('0% done');\n",
              "    li.appendChild(percent);\n",
              "\n",
              "    outputElement.appendChild(li);\n",
              "\n",
              "    const fileDataPromise = new Promise((resolve) => {\n",
              "      const reader = new FileReader();\n",
              "      reader.onload = (e) => {\n",
              "        resolve(e.target.result);\n",
              "      };\n",
              "      reader.readAsArrayBuffer(file);\n",
              "    });\n",
              "    // Wait for the data to be ready.\n",
              "    let fileData = yield {\n",
              "      promise: fileDataPromise,\n",
              "      response: {\n",
              "        action: 'continue',\n",
              "      }\n",
              "    };\n",
              "\n",
              "    // Use a chunked sending to avoid message size limits. See b/62115660.\n",
              "    let position = 0;\n",
              "    do {\n",
              "      const length = Math.min(fileData.byteLength - position, MAX_PAYLOAD_SIZE);\n",
              "      const chunk = new Uint8Array(fileData, position, length);\n",
              "      position += length;\n",
              "\n",
              "      const base64 = btoa(String.fromCharCode.apply(null, chunk));\n",
              "      yield {\n",
              "        response: {\n",
              "          action: 'append',\n",
              "          file: file.name,\n",
              "          data: base64,\n",
              "        },\n",
              "      };\n",
              "\n",
              "      let percentDone = fileData.byteLength === 0 ?\n",
              "          100 :\n",
              "          Math.round((position / fileData.byteLength) * 100);\n",
              "      percent.textContent = `${percentDone}% done`;\n",
              "\n",
              "    } while (position < fileData.byteLength);\n",
              "  }\n",
              "\n",
              "  // All done.\n",
              "  yield {\n",
              "    response: {\n",
              "      action: 'complete',\n",
              "    }\n",
              "  };\n",
              "}\n",
              "\n",
              "scope.google = scope.google || {};\n",
              "scope.google.colab = scope.google.colab || {};\n",
              "scope.google.colab._files = {\n",
              "  _uploadFiles,\n",
              "  _uploadFilesContinue,\n",
              "};\n",
              "})(self);\n",
              "</script> "
            ]
          },
          "metadata": {}
        },
        {
          "output_type": "stream",
          "name": "stdout",
          "text": [
            "Saving archive.zip to archive (2).zip\n",
            "Extracted Kaggle dataset from archive.zip\n",
            "✅ Step 3.1 completed: Load Kaggle True News Dataset\n"
          ]
        }
      ]
    },
    {
      "cell_type": "code",
      "source": [
        "# ---- Step 4: Combine Datasets (Twitter + Kaggle + Reddit) ----\n",
        "\n",
        "# Label each source\n",
        "df_twitter[\"source\"] = \"Twitter\"\n",
        "df_kaggle[\"source\"] = \"Kaggle_FakeNews\"\n",
        "df_true[\"source\"] = \"Kaggle_TrueNews\"\n",
        "df_reddit[\"source\"] = \"Reddit\"\n",
        "\n",
        "# Combine all into one unified dataframe\n",
        "df = pd.concat([df_twitter, df_kaggle, df_true, df_reddit], ignore_index=True)\n",
        "\n",
        "print(f\"✅ Step 4 completed: Combined total records = {len(df)}\")\n",
        "print(\"Sources included:\", df['source'].value_counts().to_dict())\n"
      ],
      "metadata": {
        "id": "QLfQf9iPQKUQ",
        "colab": {
          "base_uri": "https://localhost:8080/"
        },
        "outputId": "b5302e95-2ed0-41a5-ac79-b9d7bd20e5b8"
      },
      "execution_count": 28,
      "outputs": [
        {
          "output_type": "stream",
          "name": "stdout",
          "text": [
            "✅ Step 4 completed: Combined total records = 1400\n",
            "Sources included: {'Kaggle_FakeNews': 500, 'Kaggle_TrueNews': 500, 'Reddit': 300, 'Twitter': 100}\n"
          ]
        }
      ]
    },
    {
      "cell_type": "code",
      "source": [
        "# Print the first few rows of the combined DataFrame\n",
        "print(\"📊 Sample Combined Data:\")\n",
        "print(df.head(10).to_string(index=False))  # Adjust number as needed\n",
        "\n",
        "# Print total record count\n",
        "print(f\"\\n✅ Total records: {len(df)}\")\n",
        "\n",
        "# Print count of records by source\n",
        "print(\"\\n📌 Records by Source:\")\n",
        "print(df['source'].value_counts().to_string())\n"
      ],
      "metadata": {
        "colab": {
          "base_uri": "https://localhost:8080/"
        },
        "id": "QdhB10DLGkgJ",
        "outputId": "653af5e0-8fc5-4fc4-9312-1d47c0ead972"
      },
      "execution_count": 45,
      "outputs": [
        {
          "output_type": "stream",
          "name": "stdout",
          "text": [
            "📊 Sample Combined Data:\n",
            "               user                                                                                                                                                                                                                                                                                                                                     text  source\n",
            "1270022309080969219                                                                                                                                                                                                     @DefiantLs Jill Biden is cheering for a Crockett/AOC ticket to win.\\nThat's her only hope of seeing Senile Joe lose his #1 position. Twitter\n",
            "1594397548839636994                                                                                                                                                                                                                                                                                                              @pulpmx Vaccine got ya down Twitter\n",
            "1776771659501850624                                                                                                                                                      @RapidResponse47 @POTUS Oil is down because OPEC increased their production. The U.S. oil companies were at max production before Trump was inaugurated.\\n\\nhttps://t.co/zKdNiGj0tX Twitter\n",
            "          128146300                                                                                                                                                                                                                                                                                 @IAPolls2022 Since when is Michelle Obama a politician?? Twitter\n",
            "1267444543722385408                                                                                                                                                                                                                                                      What is worse, Trump trying to be a comedian, or the people that think he is funny? Twitter\n",
            "1683281635733544962                                                                                                                                                                                                                                                                @TaraBull808 I would love to see her primaried by a true Trump supporter. Twitter\n",
            "1172813691227660288                                                                                                                                                                                                                                                                                                                 @yo__Obama Let's connect Twitter\n",
            "1585831481984790530 @Vtone35 @Rebel20349722 @Doctor_N_masih @realMaalouf Many people from all around the United States believe that it is best for a woman to stay at home and do the work of literally raising her family (freedom) , but it most definitely is not a MAGA thing. Most women who voted for Trump have jobs just like those  on the left do. Twitter\n",
            "1685039706151477248                                                                                                                                                                                                                                                                      @CalltoActivism Glad Biden takes up most of the space in your brain Twitter\n",
            " 775748238934544384                                                                                                        @ArtCandee Inflation typically only moves one way because it is built into the system but the rate has already slowed under Trump.\\n\\nWhy are you not crying about stocks?  Oh that's right...\\n\\nThe market trends up over time. Twitter\n",
            "\n",
            "✅ Total records: 1400\n",
            "\n",
            "📌 Records by Source:\n",
            "source\n",
            "Kaggle_FakeNews    500\n",
            "Kaggle_TrueNews    500\n",
            "Reddit             300\n",
            "Twitter            100\n"
          ]
        }
      ]
    },
    {
      "cell_type": "code",
      "source": [
        "\n",
        "# Vectorize the text using TF-IDF\n",
        "vectorizer = TfidfVectorizer(stop_words='english', max_features=300)\n",
        "X = vectorizer.fit_transform(df['text'].fillna(\"\"))\n",
        "\n",
        "# Compute cosine similarity matrix\n",
        "similarity = (X * X.T).toarray()\n",
        "\n",
        "# Initialize an undirected graph\n",
        "G = nx.Graph()\n",
        "\n",
        "# Add nodes to the graph with metadata\n",
        "for i in range(len(df)):\n",
        "    G.add_node(i,\n",
        "               user=df.iloc[i]['user'],\n",
        "               text=df.iloc[i]['text'][:100],  # preview for visualization\n",
        "               source=df.iloc[i]['source'])\n",
        "\n",
        "# Add edges based on similarity threshold\n",
        "for i in range(len(df)):\n",
        "    for j in range(i + 1, len(df)):\n",
        "        if similarity[i][j] > 0.2:  # threshold can be tuned\n",
        "            G.add_edge(i, j, weight=similarity[i][j])\n",
        "\n",
        "print(f\"✅ Graph created: {G.number_of_nodes()} nodes, {G.number_of_edges()} edges\")\n"
      ],
      "metadata": {
        "id": "6Tz9nDASSeno",
        "colab": {
          "base_uri": "https://localhost:8080/"
        },
        "outputId": "26e46536-d3b7-4231-c60d-7b2af3d9c6eb"
      },
      "execution_count": 46,
      "outputs": [
        {
          "output_type": "stream",
          "name": "stdout",
          "text": [
            "✅ Graph created: 1400 nodes, 120488 edges\n"
          ]
        }
      ]
    },
    {
      "cell_type": "code",
      "source": [
        "# ---- Step 6: Louvain Community Detection ----\n",
        "# Run Louvain algorithm on the graph\n",
        "partition = community_louvain.best_partition(G, weight='weight')\n",
        "\n",
        "# Store community ID for each node\n",
        "for node in G.nodes():\n",
        "    G.nodes[node]['community'] = partition[node]\n",
        "\n",
        "# Optional: store color list for visualization\n",
        "colors = [partition[node] for node in G.nodes()]\n",
        "\n",
        "print(f\"✅ Louvain detected {len(set(partition.values()))} communities.\")\n"
      ],
      "metadata": {
        "id": "vL3ypvXoZhKG",
        "colab": {
          "base_uri": "https://localhost:8080/"
        },
        "outputId": "caa218ed-c01f-41d8-dafc-d6f92b7f6611"
      },
      "execution_count": 48,
      "outputs": [
        {
          "output_type": "stream",
          "name": "stdout",
          "text": [
            "✅ Louvain detected 46 communities.\n"
          ]
        }
      ]
    },
    {
      "cell_type": "code",
      "source": [
        "# ---- Step 7: Visualize Louvain Communities ----\n",
        "import matplotlib.pyplot as plt\n",
        "\n",
        "plt.figure(figsize=(12, 10))\n",
        "pos = nx.spring_layout(G, seed=42)\n",
        "\n",
        "# Color map by source\n",
        "color_map = []\n",
        "for node in G.nodes():\n",
        "    source = G.nodes[node].get('source', 'Unknown')\n",
        "    if source == 'Kaggle_FakeNews':\n",
        "        color_map.append('red')\n",
        "    elif source == 'Kaggle_TrueNews':\n",
        "        color_map.append('green')\n",
        "    elif source == 'Twitter':\n",
        "        color_map.append('blue')\n",
        "    elif source == 'Reddit':\n",
        "        color_map.append('purple')\n",
        "    else:\n",
        "        color_map.append('gray')\n",
        "\n",
        "nx.draw_networkx(\n",
        "    G,\n",
        "    pos,\n",
        "    node_color=color_map,\n",
        "    with_labels=False,\n",
        "    node_size=40,\n",
        "    edge_color=\"lightgray\"\n",
        ")\n",
        "\n",
        "plt.title(\"Louvain Community Detection\\nRed = Fake, Green = True, Blue = Twitter, Purple = Reddit\")\n",
        "plt.axis(\"off\")\n",
        "plt.show()\n"
      ],
      "metadata": {
        "colab": {
          "base_uri": "https://localhost:8080/",
          "height": 850
        },
        "id": "TftEzMVuZlPP",
        "outputId": "1a2d8760-67bb-4315-98df-d2c9629ed510"
      },
      "execution_count": 49,
      "outputs": [
        {
          "output_type": "display_data",
          "data": {
            "text/plain": [
              "<Figure size 1200x1000 with 1 Axes>"
            ],
            "image/png": "[encoded data removed]"
          },
          "metadata": {}
        }
      ]
    },
    {
      "cell_type": "code",
      "source": [
        "# ---- Step 8: PageRank Analysis ----\n",
        "from collections import Counter\n",
        "\n",
        "pagerank = nx.pagerank(G, weight='weight')\n",
        "top_nodes = Counter(pagerank).most_common(5)\n",
        "\n",
        "print(\"\\n🚀 Top Spreaders by PageRank:\")\n",
        "for node, score in top_nodes:\n",
        "    user = G.nodes[node].get('user', 'Unknown')\n",
        "    text = G.nodes[node].get('text', '')[:200]  # limit preview length\n",
        "    source = G.nodes[node].get('source', 'Unknown')\n",
        "    community = G.nodes[node].get('community', 'N/A')\n",
        "\n",
        "    print(f\"🧠 Node {node} | Source: {source} | Community: {community}\")\n",
        "    print(f\"👤 User: {user}\")\n",
        "    print(f\"📝 Text: {text}\")\n",
        "    print(f\"📈 PageRank: {score:.4f}\\n\")\n"
      ],
      "metadata": {
        "colab": {
          "base_uri": "https://localhost:8080/"
        },
        "id": "aAokz8NjUcTZ",
        "outputId": "6d804f4f-e4be-49fa-e09a-217253e8a06a"
      },
      "execution_count": 50,
      "outputs": [
        {
          "output_type": "stream",
          "name": "stdout",
          "text": [
            "\n",
            "🚀 Top Spreaders by PageRank:\n",
            "🧠 Node 679 | Source: Kaggle_TrueNews | Community: 45\n",
            "👤 User: Kaggle_TrueNews\n",
            "📝 Text: WASHINGTON (Reuters) - Near the end of President Donald Trump’s rocky first year in office, White Ho\n",
            "📈 PageRank: 0.0023\n",
            "\n",
            "🧠 Node 1054 | Source: Kaggle_TrueNews | Community: 11\n",
            "👤 User: Kaggle_TrueNews\n",
            "📝 Text: WASHINGTON/LONDON (Reuters) - President Donald Trump on Wednesday shared anti-Muslim videos posted o\n",
            "📈 PageRank: 0.0023\n",
            "\n",
            "🧠 Node 479 | Source: Kaggle_FakeNews | Community: 11\n",
            "👤 User: Kaggle_FakeNews\n",
            "📝 Text: The size of Donald Trump s hands seems to be an issue, even with the so-called president. Marco Rubi\n",
            "📈 PageRank: 0.0021\n",
            "\n",
            "🧠 Node 881 | Source: Kaggle_TrueNews | Community: 10\n",
            "👤 User: Kaggle_TrueNews\n",
            "📝 Text: WASHINGTON (Reuters) - President Donald Trump’s eldest son, Donald Trump Jr., declined to discuss wi\n",
            "📈 PageRank: 0.0020\n",
            "\n",
            "🧠 Node 592 | Source: Kaggle_FakeNews | Community: 11\n",
            "👤 User: Kaggle_FakeNews\n",
            "📝 Text: Just days after Donald Trump advisor and avowed racist alt-right provocateur Steve Bannon was fired,\n",
            "📈 PageRank: 0.0020\n",
            "\n"
          ]
        }
      ]
    },
    {
      "cell_type": "code",
      "source": [
        "# ---- Step 9: Spectral Clustering ----\n",
        "sim_matrix = np.where(similarity > 0.2, similarity, 0)\n",
        "from sklearn.cluster import SpectralClustering\n",
        "import numpy as np\n",
        "import matplotlib.pyplot as plt\n",
        "\n",
        "# Filter low-similarity values\n",
        "sim_matrix = np.where(similarity > 0.2, similarity, 0)\n",
        "\n",
        "# Apply Spectral Clustering\n",
        "sc = SpectralClustering(n_clusters=5, affinity='precomputed', assign_labels='kmeans', random_state=42)\n",
        "labels = sc.fit_predict(sim_matrix)\n",
        "\n",
        "# Assign cluster ID as a node attribute\n",
        "for i, label in enumerate(labels):\n",
        "    G.nodes[i]['spectral_cluster'] = label\n",
        "\n",
        "# Print example nodes from each cluster\n",
        "print(\"✅ Step 9 completed: Spectral Clustering\")\n",
        "for cluster_id in np.unique(labels):\n",
        "    print(f\"\\n🔷 Cluster {cluster_id} contains:\")\n",
        "    for idx in np.where(labels == cluster_id)[0][:3]:  # preview first 3 nodes per cluster\n",
        "        user = G.nodes[idx].get('user', 'Unknown')\n",
        "        text = G.nodes[idx].get('text', '')[:60]\n",
        "        print(f\" - Node {idx} ({user}): {text}...\")\n",
        "\n",
        "# Visualization\n",
        "plt.figure(figsize=(12, 10))\n",
        "nx.draw_networkx(\n",
        "    G,\n",
        "    pos,\n",
        "    node_color=labels,\n",
        "    with_labels=False,\n",
        "    node_size=40,\n",
        "    edge_color=\"lightgray\",\n",
        "    cmap=plt.cm.Set1\n",
        ")\n",
        "plt.title(\"Spectral Clustering on Misinformation Graph\")\n",
        "plt.axis(\"off\")\n",
        "plt.show()\n"
      ],
      "metadata": {
        "colab": {
          "base_uri": "https://localhost:8080/",
          "height": 1000
        },
        "id": "aajY1D5jUqwk",
        "outputId": "0154785b-08a5-4212-8e99-6ef0c63a6530"
      },
      "execution_count": 51,
      "outputs": [
        {
          "output_type": "stream",
          "name": "stderr",
          "text": [
            "/usr/local/lib/python3.11/dist-packages/sklearn/manifold/_spectral_embedding.py:329: UserWarning: Graph is not fully connected, spectral embedding may not work as expected.\n",
            "  warnings.warn(\n"
          ]
        },
        {
          "output_type": "stream",
          "name": "stdout",
          "text": [
            "✅ Step 9 completed: Spectral Clustering\n",
            "\n",
            "🔷 Cluster 0 contains:\n",
            " - Node 0 (1270022309080969219): @DefiantLs Jill Biden is cheering for a Crockett/AOC ticket ...\n",
            " - Node 1 (1594397548839636994): @pulpmx Vaccine got ya down...\n",
            " - Node 3 (128146300): @IAPolls2022 Since when is Michelle Obama a politician??...\n",
            "\n",
            "🔷 Cluster 1 contains:\n",
            " - Node 83 (1510998311200772097): @JackIsNotHereYT @quiet_follower @AnnaRMatson I get that. An...\n",
            " - Node 1129 (None): The Truth - a summary of a stump “Our impulses are being red...\n",
            " - Node 1143 (Log_Which): Financial Recessions Are Normalized By People Who Need Somet...\n",
            "\n",
            "🔷 Cluster 2 contains:\n",
            " - Node 2 (1776771659501850624): @RapidResponse47 @POTUS Oil is down because OPEC increased t...\n",
            " - Node 17 (1675169453854670849): Green EPA slush fund:\n",
            "They should subpoena Biden and ask him...\n",
            " - Node 18 (273465530): #Trump #Pushes for #Rate #Cut, Says #Powell’s ‘#Termination ...\n",
            "\n",
            "🔷 Cluster 3 contains:\n",
            " - Node 20 (1421276138928754689): @FoxNews @BernieSanders @AOC Bullshit…Donald Trump uses OUR ...\n",
            " - Node 34 (3318136044): @amitisinvesting These people don't see what Trump is trying...\n",
            " - Node 57 (1293154564636659713): Why is there always that one counterpoint that a perpetrator...\n",
            "\n",
            "🔷 Cluster 4 contains:\n",
            " - Node 86 (1731468197486792704): @ExtremePapist Roy Cohn diddled Trump...\n",
            " - Node 118 (Kaggle_FakeNews): Right now, the whole world is looking at the shocking fact t...\n",
            " - Node 122 (Kaggle_FakeNews): As a Democrat won a Senate seat in deep-red Alabama, social ...\n"
          ]
        },
        {
          "output_type": "display_data",
          "data": {
            "text/plain": [
              "<Figure size 1200x1000 with 1 Axes>"
            ],
            "image/png": "[encoded data removed]"
          },
          "metadata": {}
        }
      ]
    },
    {
      "cell_type": "code",
      "source": [
        "# ---- Step 10: HITS Algorithm (Hubs and Authorities) ----\n",
        "# Run HITS (Hyperlink-Induced Topic Search)\n",
        "hubs, authorities = nx.hits(G, max_iter=1000, normalized=True)\n",
        "\n",
        "print(\"✅ Step 10 completed: HITS Algorithm\")\n",
        "\n",
        "# Display top Hubs\n",
        "print(\"\\n🏗️ Top Hubs:\")\n",
        "for node, score in sorted(hubs.items(), key=lambda x: x[1], reverse=True)[:5]:\n",
        "    user = G.nodes[node].get('user', 'Unknown')\n",
        "    text = G.nodes[node].get('text', '')[:60]\n",
        "    source = G.nodes[node].get('source', 'Unknown')\n",
        "    print(f\"Node {node} | {source} | User: {user} | Hub Score: {score:.4f}\")\n",
        "    print(f\"Text: {text}...\\n\")\n",
        "\n",
        "# Display top Authorities\n",
        "print(\"\\n🏛️ Top Authorities:\")\n",
        "for node, score in sorted(authorities.items(), key=lambda x: x[1], reverse=True)[:5]:\n",
        "    user = G.nodes[node].get('user', 'Unknown')\n",
        "    text = G.nodes[node].get('text', '')[:60]\n",
        "    source = G.nodes[node].get('source', 'Unknown')\n",
        "    print(f\"Node {node} | {source} | User: {user} | Authority Score: {score:.4f}\")\n",
        "    print(f\"Text: {text}...\\n\")\n",
        "\n"
      ],
      "metadata": {
        "colab": {
          "base_uri": "https://localhost:8080/"
        },
        "id": "oYp_gcAUWKeF",
        "outputId": "e204767b-af9a-442a-e0e9-e7d3af319c10"
      },
      "execution_count": 52,
      "outputs": [
        {
          "output_type": "stream",
          "name": "stdout",
          "text": [
            "✅ Step 10 completed: HITS Algorithm\n",
            "\n",
            "🏗️ Top Hubs:\n",
            "Node 679 | Kaggle_TrueNews | User: Kaggle_TrueNews | Hub Score: 0.0030\n",
            "Text: WASHINGTON (Reuters) - Near the end of President Donald Trum...\n",
            "\n",
            "Node 1054 | Kaggle_TrueNews | User: Kaggle_TrueNews | Hub Score: 0.0029\n",
            "Text: WASHINGTON/LONDON (Reuters) - President Donald Trump on Wedn...\n",
            "\n",
            "Node 479 | Kaggle_FakeNews | User: Kaggle_FakeNews | Hub Score: 0.0028\n",
            "Text: The size of Donald Trump s hands seems to be an issue, even ...\n",
            "\n",
            "Node 881 | Kaggle_TrueNews | User: Kaggle_TrueNews | Hub Score: 0.0027\n",
            "Text: WASHINGTON (Reuters) - President Donald Trump’s eldest son, ...\n",
            "\n",
            "Node 304 | Kaggle_FakeNews | User: Kaggle_FakeNews | Hub Score: 0.0027\n",
            "Text: By now it s common knowledge that Donald Trump believes that...\n",
            "\n",
            "\n",
            "🏛️ Top Authorities:\n",
            "Node 679 | Kaggle_TrueNews | User: Kaggle_TrueNews | Authority Score: 0.0030\n",
            "Text: WASHINGTON (Reuters) - Near the end of President Donald Trum...\n",
            "\n",
            "Node 1054 | Kaggle_TrueNews | User: Kaggle_TrueNews | Authority Score: 0.0029\n",
            "Text: WASHINGTON/LONDON (Reuters) - President Donald Trump on Wedn...\n",
            "\n",
            "Node 479 | Kaggle_FakeNews | User: Kaggle_FakeNews | Authority Score: 0.0028\n",
            "Text: The size of Donald Trump s hands seems to be an issue, even ...\n",
            "\n",
            "Node 881 | Kaggle_TrueNews | User: Kaggle_TrueNews | Authority Score: 0.0027\n",
            "Text: WASHINGTON (Reuters) - President Donald Trump’s eldest son, ...\n",
            "\n",
            "Node 304 | Kaggle_FakeNews | User: Kaggle_FakeNews | Authority Score: 0.0027\n",
            "Text: By now it s common knowledge that Donald Trump believes that...\n",
            "\n"
          ]
        }
      ]
    },
    {
      "cell_type": "code",
      "source": [
        "# ---- Step 11: Random Walk with Restart (RWR) ----\n",
        "def random_walk_with_restart(G, start_node, alpha=0.85, max_iter=100, tol=1e-6):\n",
        "    nodes = list(G.nodes())\n",
        "    idx_map = {node: i for i, node in enumerate(nodes)}\n",
        "    n = len(nodes)\n",
        "\n",
        "    r = np.zeros(n)\n",
        "    r[idx_map[start_node]] = 1\n",
        "    p = r.copy()\n",
        "\n",
        "    A = nx.to_numpy_array(G, nodelist=nodes)\n",
        "    A = A / A.sum(axis=0, keepdims=True)\n",
        "    A = np.nan_to_num(A)\n",
        "\n",
        "    for _ in range(max_iter):\n",
        "        r_new = alpha * A @ r + (1 - alpha) * p\n",
        "        if np.linalg.norm(r_new - r, 1) < tol:\n",
        "            break\n",
        "        r = r_new\n",
        "\n",
        "    return {nodes[i]: score for i, score in enumerate(r)}\n",
        "\n",
        "# Choose a starting node (e.g. one with highest degree or random)\n",
        "start_node = max(G.degree, key=lambda x: x[1])[0]  # high-degree node\n",
        "\n",
        "rwr_scores = random_walk_with_restart(G, start_node)\n",
        "top_rwr = sorted(rwr_scores.items(), key=lambda x: x[1], reverse=True)[:5]\n",
        "\n",
        "print(\"✅ Step 11 completed: Random Walk with Restart\")\n",
        "print(f\"🔁 Starting from Node {start_node} | User: {G.nodes[start_node].get('user')} | Source: {G.nodes[start_node].get('source')}\")\n",
        "\n",
        "for node, score in top_rwr:\n",
        "    user = G.nodes[node].get('user', 'Unknown')\n",
        "    text = G.nodes[node].get('text', '')[:60]\n",
        "    source = G.nodes[node].get('source', 'Unknown')\n",
        "    print(f\"Node {node} | {source} | User: {user} | Score: {score:.4f}\")\n",
        "    print(f\"Text: {text}...\\n\")\n",
        "\n"
      ],
      "metadata": {
        "colab": {
          "base_uri": "https://localhost:8080/"
        },
        "id": "9-UHg2GNaGGX",
        "outputId": "c9428c4e-01fc-4d45-fca7-07666bf1435d"
      },
      "execution_count": 53,
      "outputs": [
        {
          "output_type": "stream",
          "name": "stderr",
          "text": [
            "<ipython-input-53-6d349d4f948f>:12: RuntimeWarning: invalid value encountered in divide\n",
            "  A = A / A.sum(axis=0, keepdims=True)\n"
          ]
        },
        {
          "output_type": "stream",
          "name": "stdout",
          "text": [
            "✅ Step 11 completed: Random Walk with Restart\n",
            "🔁 Starting from Node 1054 | User: Kaggle_TrueNews | Source: Kaggle_TrueNews\n",
            "Node 1054 | Kaggle_TrueNews | User: Kaggle_TrueNews | Score: 0.1522\n",
            "Text: WASHINGTON/LONDON (Reuters) - President Donald Trump on Wedn...\n",
            "\n",
            "Node 1047 | Kaggle_TrueNews | User: Kaggle_TrueNews | Score: 0.0024\n",
            "Text: LONDON (Reuters) - U.S. President Donald Trump sparked outra...\n",
            "\n",
            "Node 679 | Kaggle_TrueNews | User: Kaggle_TrueNews | Score: 0.0024\n",
            "Text: WASHINGTON (Reuters) - Near the end of President Donald Trum...\n",
            "\n",
            "Node 479 | Kaggle_FakeNews | User: Kaggle_FakeNews | Score: 0.0022\n",
            "Text: The size of Donald Trump s hands seems to be an issue, even ...\n",
            "\n",
            "Node 881 | Kaggle_TrueNews | User: Kaggle_TrueNews | Score: 0.0022\n",
            "Text: WASHINGTON (Reuters) - President Donald Trump’s eldest son, ...\n",
            "\n"
          ]
        }
      ]
    },
    {
      "cell_type": "code",
      "source": [
        "# ---- Step 12: Evaluation Metrics ----\n",
        "print(\"✅ Step 12: Evaluation Metrics\")\n",
        "print(\"📊 Graph Statistics\")\n",
        "print(f\"• Number of Nodes: {G.number_of_nodes()}\")\n",
        "print(f\"• Number of Edges: {G.number_of_edges()}\")\n",
        "print(f\"• Graph Density: {nx.density(G):.4f}\")\n",
        "\n",
        "# Louvain modularity (requires partition to be defined)\n",
        "try:\n",
        "    modularity = community_louvain.modularity(partition, G)\n",
        "    print(f\"• Louvain Modularity Score: {modularity:.4f}\")\n",
        "except Exception as e:\n",
        "    print(f\"⚠️ Modularity computation failed: {e}\")\n",
        "\n",
        "# Connected components\n",
        "num_components = nx.number_connected_components(G)\n",
        "print(f\"• Number of Connected Components: {num_components}\")\n"
      ],
      "metadata": {
        "colab": {
          "base_uri": "https://localhost:8080/"
        },
        "id": "LFWRFBT_bzFc",
        "outputId": "da98b3e9-4a03-4cd0-c183-539657799b21"
      },
      "execution_count": 55,
      "outputs": [
        {
          "output_type": "stream",
          "name": "stdout",
          "text": [
            "✅ Step 12: Evaluation Metrics\n",
            "📊 Graph Statistics\n",
            "• Number of Nodes: 1400\n",
            "• Number of Edges: 120488\n",
            "• Graph Density: 0.1230\n",
            "• Louvain Modularity Score: 0.3939\n",
            "• Number of Connected Components: 41\n"
          ]
        }
      ]
    },
    {
      "cell_type": "code",
      "source": [
        "# ---- Step 14: Classification Evaluation (Fake vs True) ----\n",
        "from sklearn.metrics import precision_score, recall_score, f1_score\n",
        "\n",
        "print(\"✅ Step 14: Classification Evaluation (Fake vs True)\")\n",
        "\n",
        "true_labels = []\n",
        "pred_labels = []\n",
        "\n",
        "# Assign binary ground truth and simulate prediction from community ID\n",
        "for node in G.nodes():\n",
        "    source = G.nodes[node].get('source', '')\n",
        "    if source in ['Kaggle_FakeNews', 'Kaggle_TrueNews']:\n",
        "        true_label = 1 if source == 'Kaggle_FakeNews' else 0\n",
        "        true_labels.append(true_label)\n",
        "\n",
        "        # Predict based on community assignment: even vs odd (simplified logic)\n",
        "        pred_label = partition.get(node, 0) % 2\n",
        "        pred_labels.append(pred_label)\n",
        "\n",
        "# Evaluate if we have enough ground truth\n",
        "if true_labels:\n",
        "    precision = precision_score(true_labels, pred_labels, zero_division=0)\n",
        "    recall = recall_score(true_labels, pred_labels, zero_division=0)\n",
        "    f1 = f1_score(true_labels, pred_labels, zero_division=0)\n",
        "\n",
        "    print(f\"📌 Precision: {precision:.4f}\")\n",
        "    print(f\"📌 Recall:    {recall:.4f}\")\n",
        "    print(f\"📌 F1 Score:  {f1:.4f}\")\n",
        "    print(f\"🧮 Evaluated on {len(true_labels)} labeled nodes\")\n",
        "else:\n",
        "    print(\"⚠️ No labeled Kaggle Fake/True news nodes found for evaluation.\")\n",
        "\n"
      ],
      "metadata": {
        "colab": {
          "base_uri": "https://localhost:8080/"
        },
        "id": "PW7WvYhpcc4n",
        "outputId": "c266fbc7-c06b-4256-fa8f-3e8f4cf969dd"
      },
      "execution_count": 57,
      "outputs": [
        {
          "output_type": "stream",
          "name": "stdout",
          "text": [
            "✅ Step 14: Classification Evaluation (Fake vs True)\n",
            "📌 Precision: 0.5360\n",
            "📌 Recall:    0.7740\n",
            "📌 F1 Score:  0.6334\n",
            "🧮 Evaluated on 1000 labeled nodes\n"
          ]
        }
      ]
    },
    {
      "cell_type": "code",
      "source": [
        "from sklearn.linear_model import LogisticRegression\n",
        "from sklearn.model_selection import train_test_split\n",
        "from sklearn.metrics import classification_report, precision_score, recall_score, f1_score, accuracy_score\n",
        "import numpy as np\n",
        "\n",
        "print(\"✅ Step 15: Logistic Regression (Structural Features Only)\")\n",
        "\n",
        "X_features = []\n",
        "y_labels = []\n",
        "node_ids = []\n",
        "\n",
        "for node in G.nodes():\n",
        "    source = G.nodes[node].get('source', '')\n",
        "    if source in ['Kaggle_FakeNews', 'Kaggle_TrueNews']:\n",
        "        node_ids.append(node)\n",
        "        community = partition.get(node, 0)\n",
        "        degree = G.degree[node]\n",
        "        pr = pagerank.get(node, 0)\n",
        "        X_features.append([community, degree, pr])\n",
        "        y_labels.append(1 if source == 'Kaggle_FakeNews' else 0)\n",
        "\n",
        "X_train, X_test, y_train, y_test = train_test_split(X_features, y_labels, test_size=0.3, random_state=42)\n",
        "\n",
        "model = LogisticRegression()\n",
        "model.fit(X_train, y_train)\n",
        "y_pred = model.predict(X_test)\n",
        "\n",
        "print(\"\\n📊 Logistic Regression Classification Report:\")\n",
        "print(classification_report(y_test, y_pred, target_names=['True News', 'Fake News']))\n",
        "\n",
        "logreg_accuracy = accuracy_score(y_test, y_pred)\n",
        "logreg_precision = precision_score(y_test, y_pred)\n",
        "logreg_recall = recall_score(y_test, y_pred)\n",
        "logreg_f1 = f1_score(y_test, y_pred)\n"
      ],
      "metadata": {
        "colab": {
          "base_uri": "https://localhost:8080/"
        },
        "id": "4LPvkerHdGde",
        "outputId": "41e3f14d-8768-4081-929b-d22d81d88592"
      },
      "execution_count": 87,
      "outputs": [
        {
          "output_type": "stream",
          "name": "stdout",
          "text": [
            "✅ Step 15: Logistic Regression (Structural Features Only)\n",
            "\n",
            "📊 Logistic Regression Classification Report:\n",
            "              precision    recall  f1-score   support\n",
            "\n",
            "   True News       0.90      0.49      0.63       150\n",
            "   Fake News       0.65      0.95      0.77       150\n",
            "\n",
            "    accuracy                           0.72       300\n",
            "   macro avg       0.77      0.72      0.70       300\n",
            "weighted avg       0.77      0.72      0.70       300\n",
            "\n"
          ]
        }
      ]
    },
    {
      "cell_type": "code",
      "source": [
        "# ---- Step 16: Hidden Community Exploration ----\n",
        "from collections import defaultdict\n",
        "\n",
        "# Group nodes by their Louvain community\n",
        "community_nodes = defaultdict(list)\n",
        "for node, comm_id in partition.items():\n",
        "    community_nodes[comm_id].append(node)\n",
        "\n",
        "print(\"✅ Step 16: Hidden Community Breakdown\")\n",
        "\n",
        "# Print top 3 sample nodes from each community\n",
        "for comm_id, nodes in community_nodes.items():\n",
        "    print(f\"\\n🔍 Community {comm_id} — Total nodes: {len(nodes)}\")\n",
        "    for n in nodes[:3]:\n",
        "        user = G.nodes[n].get('user', 'Unknown')\n",
        "        source = G.nodes[n].get('source', 'Unknown')\n",
        "        text = G.nodes[n].get('text', '')[:60]\n",
        "        print(f\" - Node {n} | Source: {source} | User: {user}\")\n",
        "        print(f\"   Text: {text}...\")\n"
      ],
      "metadata": {
        "colab": {
          "base_uri": "https://localhost:8080/"
        },
        "id": "eVYkW-5Aiuiv",
        "outputId": "d933dfcc-1085-461a-b430-1252b003a02c"
      },
      "execution_count": 79,
      "outputs": [
        {
          "output_type": "stream",
          "name": "stdout",
          "text": [
            "✅ Step 16: Hidden Community Breakdown\n",
            "\n",
            "🔍 Community 2 — Total nodes: 134\n",
            " - Node 0 | Source: Twitter | User: 1270022309080969219\n",
            "   Text: @DefiantLs Jill Biden is cheering for a Crockett/AOC ticket ...\n",
            " - Node 2 | Source: Twitter | User: 1776771659501850624\n",
            "   Text: @RapidResponse47 @POTUS Oil is down because OPEC increased t...\n",
            " - Node 12 | Source: Twitter | User: 823293618781724672\n",
            "   Text: @MadMadMadWorld_ @ArtCandee @AngryDemVet Also socialism isn’...\n",
            "\n",
            "🔍 Community 13 — Total nodes: 152\n",
            " - Node 1 | Source: Twitter | User: 1594397548839636994\n",
            "   Text: @pulpmx Vaccine got ya down...\n",
            " - Node 38 | Source: Twitter | User: 1849535731384893440\n",
            "   Text: @bearsarestupid @uhohspag00 @ImMeme0 On the Washington Monum...\n",
            " - Node 48 | Source: Twitter | User: 1688921149240180737\n",
            "   Text: @FightWithMemes THEY ALL GOT PAID. COVID WAS TO KILL AMERICA...\n",
            "\n",
            "🔍 Community 11 — Total nodes: 519\n",
            " - Node 3 | Source: Twitter | User: 128146300\n",
            "   Text: @IAPolls2022 Since when is Michelle Obama a politician??...\n",
            " - Node 4 | Source: Twitter | User: 1267444543722385408\n",
            "   Text: What is worse, Trump trying to be a comedian, or the people ...\n",
            " - Node 5 | Source: Twitter | User: 1683281635733544962\n",
            "   Text: @TaraBull808 I would love to see her primaried by a true Tru...\n",
            "\n",
            "🔍 Community 5 — Total nodes: 1\n",
            " - Node 8 | Source: Twitter | User: 1685039706151477248\n",
            "   Text: @CalltoActivism Glad Biden takes up most of the space in you...\n",
            "\n",
            "🔍 Community 6 — Total nodes: 131\n",
            " - Node 13 | Source: Twitter | User: 1483581489560399874\n",
            "   Text: @MizDonna69 Murkowski ran as an Independent in her last elec...\n",
            " - Node 26 | Source: Twitter | User: 1678413513457295362\n",
            "   Text: @SaveAmericaNew When was that? 27 or 28 years ago? The whole...\n",
            " - Node 27 | Source: Twitter | User: 1466997272\n",
            "   Text: @kellro36 At long last the tide is turning. It would only ha...\n",
            "\n",
            "🔍 Community 45 — Total nodes: 269\n",
            " - Node 20 | Source: Twitter | User: 1421276138928754689\n",
            "   Text: @FoxNews @BernieSanders @AOC Bullshit…Donald Trump uses OUR ...\n",
            " - Node 34 | Source: Twitter | User: 3318136044\n",
            "   Text: @amitisinvesting These people don't see what Trump is trying...\n",
            " - Node 57 | Source: Twitter | User: 1293154564636659713\n",
            "   Text: Why is there always that one counterpoint that a perpetrator...\n",
            "\n",
            "🔍 Community 10 — Total nodes: 155\n",
            " - Node 54 | Source: Twitter | User: 1856797737083076608\n",
            "   Text: @sugarbets_ @kaji00012 @anytimeFXmetal @zerohedge Not if we ...\n",
            " - Node 101 | Source: Kaggle_FakeNews | User: Kaggle_FakeNews\n",
            "   Text: House Intelligence Committee Chairman Devin Nunes is going t...\n",
            " - Node 106 | Source: Kaggle_FakeNews | User: Kaggle_FakeNews\n",
            "   Text: Donald Trump spent a good portion of his day at his golf clu...\n",
            "\n",
            "🔍 Community 12 — Total nodes: 1\n",
            " - Node 87 | Source: Twitter | User: 1687953093197979649\n",
            "   Text: \"Give it up for Tony Hinchcliffe: that's my dad.\" - Joe Bide...\n",
            "\n",
            "🔍 Community 14 — Total nodes: 1\n",
            " - Node 1100 | Source: Reddit | User: Fit_Opportunity_8304\n",
            "   Text: Funny but true..Are they wrong? Funny but also true....\n",
            "\n",
            "🔍 Community 17 — Total nodes: 1\n",
            " - Node 1118 | Source: Reddit | User: Pleasant_Unit_2237\n",
            "   Text: Are the druids controlling everything? Are they pulling the ...\n",
            "\n",
            "🔍 Community 18 — Total nodes: 1\n",
            " - Node 1168 | Source: Reddit | User: ProtectedHologram\n",
            "   Text: Immigrants get 250% more childcare benefits than native born...\n",
            "\n",
            "🔍 Community 19 — Total nodes: 1\n",
            " - Node 1182 | Source: Reddit | User: astroNot-Nuts\n",
            "   Text: Sunrise/Sunset Failure on Globe Model (Update) ...\n",
            "\n",
            "🔍 Community 20 — Total nodes: 1\n",
            " - Node 1183 | Source: Reddit | User: manuelbaguio\n",
            "   Text: Alien logo in  faithfully song by journey  anyone can explai...\n",
            "\n",
            "🔍 Community 21 — Total nodes: 1\n",
            " - Node 1193 | Source: Reddit | User: Educational-Idea4232\n",
            "   Text: Do you remember this? The reality of the Memory hole..... ...\n",
            "\n",
            "🔍 Community 22 — Total nodes: 1\n",
            " - Node 1195 | Source: Reddit | User: proandcon111\n",
            "   Text: Bring Back the MS13 Gangbanger They SCREAM ... OR \"Maryland ...\n",
            "\n",
            "🔍 Community 23 — Total nodes: 1\n",
            " - Node 1204 | Source: Reddit | User: DamianKing42\n",
            "   Text: That's not what's up 😔 ...\n",
            "\n",
            "🔍 Community 24 — Total nodes: 1\n",
            " - Node 1210 | Source: Reddit | User: BeautifulSea8828\n",
            "   Text: What’s Up! ...\n",
            "\n",
            "🔍 Community 25 — Total nodes: 1\n",
            " - Node 1215 | Source: Reddit | User: justAnotherGay12\n",
            "   Text: Uhh whats up? ...\n",
            "\n",
            "🔍 Community 26 — Total nodes: 1\n",
            " - Node 1224 | Source: Reddit | User: tyjet\n",
            "   Text: The logical explanation! ...\n",
            "\n",
            "🔍 Community 27 — Total nodes: 1\n",
            " - Node 1225 | Source: Reddit | User: aknlfan\n",
            "   Text: Heartbreaking Folks, this is not what’s up…...\n",
            "\n",
            "🔍 Community 28 — Total nodes: 1\n",
            " - Node 1228 | Source: Reddit | User: Dear_Spend_2540\n",
            "   Text: I take this back ...\n",
            "\n",
            "🔍 Community 29 — Total nodes: 1\n",
            " - Node 1229 | Source: Reddit | User: Top-Refrigerator-705\n",
            "   Text: Our childhood hero ...\n",
            "\n",
            "🔍 Community 30 — Total nodes: 1\n",
            " - Node 1233 | Source: Reddit | User: DamianKing42\n",
            "   Text: Will you pull up ...\n",
            "\n",
            "🔍 Community 31 — Total nodes: 1\n",
            " - Node 1236 | Source: Reddit | User: JoZaJaB\n",
            "   Text: Here in Tomodachi Life… we live, laugh, and love. ...\n",
            "\n",
            "🔍 Community 32 — Total nodes: 1\n",
            " - Node 1263 | Source: Reddit | User: Gojifan549\n",
            "   Text: This is not What’s up!! Tom and Nick would be ashamed ...\n",
            "\n",
            "🔍 Community 33 — Total nodes: 1\n",
            " - Node 1264 | Source: Reddit | User: mister_damage\n",
            "   Text: That's now what's up, Miz!! ...\n",
            "\n",
            "🔍 Community 34 — Total nodes: 1\n",
            " - Node 1266 | Source: Reddit | User: Gwario_on_Reddit\n",
            "   Text: Acron Killings ...\n",
            "\n",
            "🔍 Community 35 — Total nodes: 1\n",
            " - Node 1271 | Source: Reddit | User: Beeyo176\n",
            "   Text: Guys! We finally found Nick Mysterio! ...\n",
            "\n",
            "🔍 Community 36 — Total nodes: 1\n",
            " - Node 1276 | Source: Reddit | User: Plopshire\n",
            "   Text: Happy Easter! ...\n",
            "\n",
            "🔍 Community 37 — Total nodes: 1\n",
            " - Node 1281 | Source: Reddit | User: DamianKing42\n",
            "   Text: Happy birthday Kurt 😀🇺🇸🏅 ...\n",
            "\n",
            "🔍 Community 38 — Total nodes: 1\n",
            " - Node 1288 | Source: Reddit | User: Top-Refrigerator-705\n",
            "   Text: Merry Easter y’all! What’s up! ...\n",
            "\n",
            "🔍 Community 39 — Total nodes: 1\n",
            " - Node 1289 | Source: Reddit | User: Plopshire\n",
            "   Text: Merry Christmas! ...\n",
            "\n",
            "🔍 Community 40 — Total nodes: 1\n",
            " - Node 1291 | Source: Reddit | User: Top-Refrigerator-705\n",
            "   Text: What’s up! ...\n",
            "\n",
            "🔍 Community 41 — Total nodes: 1\n",
            " - Node 1293 | Source: Reddit | User: DamianKing42\n",
            "   Text: Looking out for Pete ...\n",
            "\n",
            "🔍 Community 42 — Total nodes: 1\n",
            " - Node 1297 | Source: Reddit | User: Top-Refrigerator-705\n",
            "   Text: Tom & Nick Mysterio! ...\n",
            "\n",
            "🔍 Community 43 — Total nodes: 1\n",
            " - Node 1301 | Source: Reddit | User: mymomknowsyourmom\n",
            "   Text: Fears of the economy tanking are now higher than they were a...\n",
            "\n",
            "🔍 Community 44 — Total nodes: 1\n",
            " - Node 1304 | Source: Reddit | User: darrenjyc\n",
            "   Text: Meet MAGA’s Favorite Communist ...\n",
            "\n",
            "🔍 Community 0 — Total nodes: 1\n",
            " - Node 1322 | Source: Reddit | User: johnnierockit\n",
            "   Text: Yale Professor Jason Stanley Explains Why Authoritarians Att...\n",
            "\n",
            "🔍 Community 1 — Total nodes: 1\n",
            " - Node 1335 | Source: Reddit | User: bloomberg\n",
            "   Text: FDA’s Baby Formula Research Gutted After RFK Jr. Safety Pled...\n",
            "\n",
            "🔍 Community 3 — Total nodes: 1\n",
            " - Node 1337 | Source: Reddit | User: wiredmagazine\n",
            "   Text: The CFPB Has Been Gutted ...\n",
            "\n",
            "🔍 Community 4 — Total nodes: 1\n",
            " - Node 1353 | Source: Reddit | User: deathteat\n",
            "   Text: Fascism Isn’t Coming — It’s Here. Now What? ...\n",
            "\n",
            "🔍 Community 7 — Total nodes: 1\n",
            " - Node 1362 | Source: Reddit | User: statnews\n",
            "   Text: For an Air Force vet, an FDA layoff brings back symptoms of ...\n",
            "\n",
            "🔍 Community 8 — Total nodes: 1\n",
            " - Node 1372 | Source: Reddit | User: freddledgruntbugly\n",
            "   Text: DHS threatens to bar Harvard from enrolling international st...\n",
            "\n",
            "🔍 Community 9 — Total nodes: 1\n",
            " - Node 1373 | Source: Reddit | User: Ok-Direction-4480\n",
            "   Text: MAGA Rep Smears Deported Dad as ‘Potential Terrorist’ ...\n",
            "\n",
            "🔍 Community 15 — Total nodes: 1\n",
            " - Node 1378 | Source: Reddit | User: Sachyriel\n",
            "   Text: The U.S.-China trade war is escalating. But China may have m...\n",
            "\n",
            "🔍 Community 16 — Total nodes: 1\n",
            " - Node 1398 | Source: Reddit | User: rafvic2\n",
            "   Text: Marco Rubio sends a harsh message to those considering a U.S...\n"
          ]
        }
      ]
    },
    {
      "cell_type": "code",
      "source": [
        "pip install torch-geometric torch-scatter torch-sparse torch-cluster torch-spline-conv -f https://data.pyg.org/whl/torch-2.0.0+cpu.html\n"
      ],
      "metadata": {
        "colab": {
          "base_uri": "https://localhost:8080/"
        },
        "id": "HAt9NReuZh4l",
        "outputId": "d1780528-1059-46ff-f51d-5e66c0d8310f"
      },
      "execution_count": 40,
      "outputs": [
        {
          "output_type": "stream",
          "name": "stdout",
          "text": [
            "Looking in links: https://data.pyg.org/whl/torch-2.0.0+cpu.html\n",
            "Collecting torch-geometric\n",
            "  Downloading torch_geometric-2.6.1-py3-none-any.whl.metadata (63 kB)\n",
            "\u001b[2K     \u001b[90m━━━━━━━━━━━━━━━━━━━━━━━━━━━━━━━━━━━━━━━━\u001b[0m \u001b[32m63.1/63.1 kB\u001b[0m \u001b[31m6.0 MB/s\u001b[0m eta \u001b[36m0:00:00\u001b[0m\n",
            "\u001b[?25hCollecting torch-scatter\n",
            "  Downloading https://data.pyg.org/whl/torch-2.0.0%2Bcpu/torch_scatter-2.1.2%2Bpt20cpu-cp311-cp311-linux_x86_64.whl (494 kB)\n",
            "\u001b[2K     \u001b[90m━━━━━━━━━━━━━━━━━━━━━━━━━━━━━━━━━━━━━━━\u001b[0m \u001b[32m494.0/494.0 kB\u001b[0m \u001b[31m6.3 MB/s\u001b[0m eta \u001b[36m0:00:00\u001b[0m\n",
            "\u001b[?25hCollecting torch-sparse\n",
            "  Downloading https://data.pyg.org/whl/torch-2.0.0%2Bcpu/torch_sparse-0.6.18%2Bpt20cpu-cp311-cp311-linux_x86_64.whl (1.2 MB)\n",
            "\u001b[2K     \u001b[90m━━━━━━━━━━━━━━━━━━━━━━━━━━━━━━━━━━━━━━━━\u001b[0m \u001b[32m1.2/1.2 MB\u001b[0m \u001b[31m16.4 MB/s\u001b[0m eta \u001b[36m0:00:00\u001b[0m\n",
            "\u001b[?25hCollecting torch-cluster\n",
            "  Downloading https://data.pyg.org/whl/torch-2.0.0%2Bcpu/torch_cluster-1.6.3%2Bpt20cpu-cp311-cp311-linux_x86_64.whl (750 kB)\n",
            "\u001b[2K     \u001b[90m━━━━━━━━━━━━━━━━━━━━━━━━━━━━━━━━━━━━━━\u001b[0m \u001b[32m750.9/750.9 kB\u001b[0m \u001b[31m22.9 MB/s\u001b[0m eta \u001b[36m0:00:00\u001b[0m\n",
            "\u001b[?25hCollecting torch-spline-conv\n",
            "  Downloading https://data.pyg.org/whl/torch-2.0.0%2Bcpu/torch_spline_conv-1.2.2%2Bpt20cpu-cp311-cp311-linux_x86_64.whl (208 kB)\n",
            "\u001b[2K     \u001b[90m━━━━━━━━━━━━━━━━━━━━━━━━━━━━━━━━━━━━━━\u001b[0m \u001b[32m208.1/208.1 kB\u001b[0m \u001b[31m18.9 MB/s\u001b[0m eta \u001b[36m0:00:00\u001b[0m\n",
            "\u001b[?25hRequirement already satisfied: aiohttp in /usr/local/lib/python3.11/dist-packages (from torch-geometric) (3.11.15)\n",
            "Requirement already satisfied: fsspec in /usr/local/lib/python3.11/dist-packages (from torch-geometric) (2025.3.2)\n",
            "Requirement already satisfied: jinja2 in /usr/local/lib/python3.11/dist-packages (from torch-geometric) (3.1.6)\n",
            "Requirement already satisfied: numpy in /usr/local/lib/python3.11/dist-packages (from torch-geometric) (2.0.2)\n",
            "Requirement already satisfied: psutil>=5.8.0 in /usr/local/lib/python3.11/dist-packages (from torch-geometric) (5.9.5)\n",
            "Requirement already satisfied: pyparsing in /usr/local/lib/python3.11/dist-packages (from torch-geometric) (3.2.3)\n",
            "Requirement already satisfied: requests in /usr/local/lib/python3.11/dist-packages (from torch-geometric) (2.32.3)\n",
            "Requirement already satisfied: tqdm in /usr/local/lib/python3.11/dist-packages (from torch-geometric) (4.67.1)\n",
            "Requirement already satisfied: scipy in /usr/local/lib/python3.11/dist-packages (from torch-sparse) (1.14.1)\n",
            "Requirement already satisfied: aiohappyeyeballs>=2.3.0 in /usr/local/lib/python3.11/dist-packages (from aiohttp->torch-geometric) (2.6.1)\n",
            "Requirement already satisfied: aiosignal>=1.1.2 in /usr/local/lib/python3.11/dist-packages (from aiohttp->torch-geometric) (1.3.2)\n",
            "Requirement already satisfied: attrs>=17.3.0 in /usr/local/lib/python3.11/dist-packages (from aiohttp->torch-geometric) (25.3.0)\n",
            "Requirement already satisfied: frozenlist>=1.1.1 in /usr/local/lib/python3.11/dist-packages (from aiohttp->torch-geometric) (1.5.0)\n",
            "Requirement already satisfied: multidict<7.0,>=4.5 in /usr/local/lib/python3.11/dist-packages (from aiohttp->torch-geometric) (6.4.2)\n",
            "Requirement already satisfied: propcache>=0.2.0 in /usr/local/lib/python3.11/dist-packages (from aiohttp->torch-geometric) (0.3.1)\n",
            "Requirement already satisfied: yarl<2.0,>=1.17.0 in /usr/local/lib/python3.11/dist-packages (from aiohttp->torch-geometric) (1.19.0)\n",
            "Requirement already satisfied: MarkupSafe>=2.0 in /usr/local/lib/python3.11/dist-packages (from jinja2->torch-geometric) (3.0.2)\n",
            "Requirement already satisfied: charset-normalizer<4,>=2 in /usr/local/lib/python3.11/dist-packages (from requests->torch-geometric) (3.4.1)\n",
            "Requirement already satisfied: idna<4,>=2.5 in /usr/local/lib/python3.11/dist-packages (from requests->torch-geometric) (3.10)\n",
            "Requirement already satisfied: urllib3<3,>=1.21.1 in /usr/local/lib/python3.11/dist-packages (from requests->torch-geometric) (2.3.0)\n",
            "Requirement already satisfied: certifi>=2017.4.17 in /usr/local/lib/python3.11/dist-packages (from requests->torch-geometric) (2025.1.31)\n",
            "Downloading torch_geometric-2.6.1-py3-none-any.whl (1.1 MB)\n",
            "\u001b[2K   \u001b[90m━━━━━━━━━━━━━━━━━━━━━━━━━━━━━━━━━━━━━━━━\u001b[0m \u001b[32m1.1/1.1 MB\u001b[0m \u001b[31m59.7 MB/s\u001b[0m eta \u001b[36m0:00:00\u001b[0m\n",
            "\u001b[?25hInstalling collected packages: torch-spline-conv, torch-scatter, torch-sparse, torch-cluster, torch-geometric\n",
            "Successfully installed torch-cluster-1.6.3+pt20cpu torch-geometric-2.6.1 torch-scatter-2.1.2+pt20cpu torch-sparse-0.6.18+pt20cpu torch-spline-conv-1.2.2+pt20cpu\n"
          ]
        }
      ]
    },
    {
      "cell_type": "code",
      "source": [
        "import torch\n",
        "import torch.nn.functional as F\n",
        "from torch_geometric.nn import GCNConv\n",
        "from torch_geometric.data import Data\n",
        "from torch_geometric.utils import from_networkx\n",
        "from sklearn.model_selection import train_test_split\n",
        "from sklearn.preprocessing import LabelEncoder\n",
        "import networkx as nx\n",
        "import numpy as n"
      ],
      "metadata": {
        "id": "9Tm_Uc94ZHON"
      },
      "execution_count": 80,
      "outputs": []
    },
    {
      "cell_type": "code",
      "source": [
        "print(\"✅ Step 18: Tuned GNN with Structural Features\")\n",
        "\n",
        "import torch\n",
        "import torch.nn.functional as F\n",
        "from torch.nn import LeakyReLU\n",
        "from torch_geometric.utils import from_networkx\n",
        "from torch_geometric.nn import GCNConv\n",
        "\n",
        "# Use already prepared features: X_struct and labels y\n",
        "\n",
        "# Assign to graph\n",
        "for i, node in enumerate(G.nodes()):\n",
        "    G.nodes[node]['x'] = X_struct[i]\n",
        "    G.nodes[node]['y'] = y[i]\n",
        "\n",
        "data = from_networkx(G)\n",
        "data.x = torch.tensor(X_struct, dtype=torch.float)\n",
        "data.y = torch.tensor(y, dtype=torch.long)\n",
        "\n",
        "mask = data.y != -1\n",
        "train_mask_idx, test_mask_idx = train_test_split(torch.where(mask)[0], test_size=0.3, random_state=42)\n",
        "\n",
        "# 🔧 Tuned GCN model\n",
        "class TunedGCN(torch.nn.Module):\n",
        "    def __init__(self, input_dim):\n",
        "        super().__init__()\n",
        "        self.conv1 = GCNConv(input_dim, 64)\n",
        "        self.conv2 = GCNConv(64, 32)\n",
        "        self.conv3 = GCNConv(32, 2)\n",
        "        self.leaky_relu = LeakyReLU(0.1)\n",
        "\n",
        "    def forward(self, x, edge_index):\n",
        "        x = self.conv1(x, edge_index)\n",
        "        x = self.leaky_relu(x)\n",
        "        x = F.dropout(x, p=0.3, training=self.training)\n",
        "        x = self.conv2(x, edge_index)\n",
        "        x = self.leaky_relu(x)\n",
        "        x = F.dropout(x, p=0.3, training=self.training)\n",
        "        x = self.conv3(x, edge_index)\n",
        "        return F.log_softmax(x, dim=1)\n",
        "\n",
        "# Train\n",
        "model = TunedGCN(input_dim=data.x.shape[1])\n",
        "optimizer = torch.optim.Adam(model.parameters(), lr=0.005)\n",
        "\n",
        "model.train()\n",
        "for epoch in range(300):\n",
        "    optimizer.zero_grad()\n",
        "    out = model(data.x, data.edge_index)\n",
        "    loss = F.nll_loss(out[train_mask_idx], data.y[train_mask_idx])\n",
        "    loss.backward()\n",
        "    optimizer.step()\n",
        "    if epoch % 25 == 0:\n",
        "        print(f\"Epoch {epoch}, Loss: {loss.item():.4f}\")\n",
        "\n",
        "# Evaluate\n",
        "model.eval()\n",
        "out = model(data.x, data.edge_index)\n",
        "pred = out.argmax(dim=1)\n",
        "true_y = data.y[test_mask_idx]\n",
        "pred_y = pred[test_mask_idx]\n",
        "\n",
        "acc = int((pred_y == true_y).sum()) / len(true_y)\n",
        "precision = precision_score(true_y, pred_y, zero_division=0)\n",
        "recall = recall_score(true_y, pred_y, zero_division=0)\n",
        "f1 = f1_score(true_y, pred_y, zero_division=0)\n",
        "\n",
        "print(f\"\\n📊 Tuned GNN Test Accuracy: {acc:.4f}\")\n",
        "print(\"📋 Tuned GNN Classification Report:\")\n",
        "print(classification_report(true_y, pred_y, target_names=['True News', 'Fake News']))\n",
        "\n",
        "# Confusion Matrix\n",
        "cm = confusion_matrix(true_y, pred_y)\n",
        "disp = ConfusionMatrixDisplay(confusion_matrix=cm, display_labels=['True News', 'Fake News'])\n",
        "disp.plot(cmap='Blues')\n",
        "plt.title(\"Tuned GNN Confusion Matrix\")\n",
        "plt.show()\n"
      ],
      "metadata": {
        "colab": {
          "base_uri": "https://localhost:8080/",
          "height": 918
        },
        "id": "4xnOnQ4paKec",
        "outputId": "e7ede2fd-d4a9-48db-b090-a7995fbbb7ab"
      },
      "execution_count": 91,
      "outputs": [
        {
          "output_type": "stream",
          "name": "stdout",
          "text": [
            "✅ Step 18: Tuned GNN with Structural Features\n",
            "Epoch 0, Loss: 20.2670\n",
            "Epoch 25, Loss: 2.3777\n",
            "Epoch 50, Loss: 1.0333\n",
            "Epoch 75, Loss: 1.0177\n",
            "Epoch 100, Loss: 0.7779\n",
            "Epoch 125, Loss: 1.1483\n",
            "Epoch 150, Loss: 0.5257\n",
            "Epoch 175, Loss: 0.5411\n",
            "Epoch 200, Loss: 0.7204\n",
            "Epoch 225, Loss: 0.4769\n",
            "Epoch 250, Loss: 0.6037\n",
            "Epoch 275, Loss: 0.6584\n",
            "\n",
            "📊 Tuned GNN Test Accuracy: 0.7833\n",
            "📋 Tuned GNN Classification Report:\n",
            "              precision    recall  f1-score   support\n",
            "\n",
            "   True News       0.72      0.92      0.81       150\n",
            "   Fake News       0.89      0.65      0.75       150\n",
            "\n",
            "    accuracy                           0.78       300\n",
            "   macro avg       0.81      0.78      0.78       300\n",
            "weighted avg       0.81      0.78      0.78       300\n",
            "\n"
          ]
        },
        {
          "output_type": "display_data",
          "data": {
            "text/plain": [
              "<Figure size 640x480 with 2 Axes>"
            ],
            "image/png": "[encoded data removed]"
          },
          "metadata": {}
        }
      ]
    },
    {
      "cell_type": "code",
      "source": [
        "# Final evaluation (if not already done above)\n",
        "model.eval()\n",
        "out = model(data.x, data.edge_index)\n",
        "pred = out.argmax(dim=1)\n",
        "\n",
        "# Use test_mask_idx if available\n",
        "if 'test_mask_idx' in locals():\n",
        "    correct = pred[test_mask_idx] == data.y[test_mask_idx]\n",
        "    acc = int(correct.sum()) / len(test_mask_idx)\n",
        "    print(f\"✅ Final GNN Test Accuracy: {acc:.4f}\")\n",
        "else:\n",
        "    print(\"⚠️ test_mask_idx not defined — skipping final evaluation.\")\n"
      ],
      "metadata": {
        "colab": {
          "base_uri": "https://localhost:8080/"
        },
        "id": "5MFBeM0Edfus",
        "outputId": "a7dbf052-8c26-4684-fe47-41edb0105646"
      },
      "execution_count": 93,
      "outputs": [
        {
          "output_type": "stream",
          "name": "stdout",
          "text": [
            "✅ Final GNN Test Accuracy: 0.7833\n"
          ]
        }
      ]
    },
    {
      "cell_type": "code",
      "source": [
        "from sklearn.metrics import precision_score, recall_score, f1_score, accuracy_score\n",
        "\n",
        "print(\"✅ Step 20: Final Model Comparison\\n\")\n",
        "print(\"📊 Final Evaluation Summary of All Techniques\")\n",
        "print(f\"{'Technique':<30}{'Accuracy':<12}{'Precision':<12}{'Recall':<12}{'F1 Score':<12}\")\n",
        "print(\"-\" * 75)\n",
        "\n",
        "# --- Louvain ---\n",
        "louvain_precision = precision_score(true_labels, pred_labels, zero_division=0)\n",
        "louvain_recall = recall_score(true_labels, pred_labels, zero_division=0)\n",
        "louvain_f1 = f1_score(true_labels, pred_labels, zero_division=0)\n",
        "louvain_accuracy = accuracy_score(true_labels, pred_labels)\n",
        "\n",
        "# --- Logistic Regression ---\n",
        "logreg_accuracy = accuracy_score(y_test, y_pred)\n",
        "logreg_precision = precision_score(y_test, y_pred, zero_division=0)\n",
        "logreg_recall = recall_score(y_test, y_pred, zero_division=0)\n",
        "logreg_f1 = f1_score(y_test, y_pred, zero_division=0)\n",
        "\n",
        "# --- GNN ---\n",
        "gnn_accuracy = acc  # from earlier step\n",
        "gnn_precision = precision\n",
        "gnn_recall = recall\n",
        "gnn_f1 = f1\n",
        "\n",
        "# Print all results\n",
        "print(f\"{'Louvain (Guess)':<30}{louvain_accuracy:<12.2f}{louvain_precision:<12.2f}{louvain_recall:<12.2f}{louvain_f1:<12.2f}\")\n",
        "print(f\"{'Logistic Regression':<30}{logreg_accuracy:<12.2f}{logreg_precision:<12.2f}{logreg_recall:<12.2f}{logreg_f1:<12.2f}\")\n",
        "print(f\"{'Graph Neural Network (GNN)':<30}{gnn_accuracy:<12.2f}{gnn_precision:<12.2f}{gnn_recall:<12.2f}{gnn_f1:<12.2f}\")\n"
      ],
      "metadata": {
        "colab": {
          "base_uri": "https://localhost:8080/"
        },
        "id": "iFngRzNWiSoH",
        "outputId": "9b2b1428-2ebe-426d-c4e3-86d50e7bc46a"
      },
      "execution_count": 94,
      "outputs": [
        {
          "output_type": "stream",
          "name": "stdout",
          "text": [
            "✅ Step 20: Final Model Comparison\n",
            "\n",
            "📊 Final Evaluation Summary of All Techniques\n",
            "Technique                     Accuracy    Precision   Recall      F1 Score    \n",
            "---------------------------------------------------------------------------\n",
            "Louvain (Guess)               0.55        0.54        0.77        0.63        \n",
            "Logistic Regression           0.72        0.65        0.95        0.77        \n",
            "Graph Neural Network (GNN)    0.78        0.89        0.65        0.75        \n"
          ]
        }
      ]
    }
  ]
}
